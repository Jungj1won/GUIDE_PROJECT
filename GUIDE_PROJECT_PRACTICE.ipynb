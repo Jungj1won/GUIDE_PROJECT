{
  "nbformat": 4,
  "nbformat_minor": 0,
  "metadata": {
    "colab": {
      "provenance": []
    },
    "kernelspec": {
      "name": "python3",
      "display_name": "Python 3"
    },
    "language_info": {
      "name": "python"
    }
  },
  "cells": [
    {
      "cell_type": "markdown",
      "source": [
        "# 가이드프로젝트"
      ],
      "metadata": {
        "id": "gtqBeR_Pb-Vn"
      }
    },
    {
      "cell_type": "markdown",
      "source": [
        "### 가이드프로젝트를 위한 노트북 파일입니다.\n",
        "### 데이터분석과정에 대한 흐름을 작성해두었으니 참고 부탁드립니다.\n",
        "### 전체 코드파일은 다른 파일을 참고해 주세요.\n",
        "### 데이터 전처리 + 모델 구축 외에 과정은 자율적으로 진행하면 됩니다."
      ],
      "metadata": {
        "id": "Z-CSvDBScDCO"
      }
    },
    {
      "cell_type": "code",
      "execution_count": null,
      "metadata": {
        "id": "rIBTb_gyb2eR"
      },
      "outputs": [],
      "source": [
        "# 코랩환경에서만 사용\n",
        "from google.colab import drive\n",
        "drive.mount('/content/drive')"
      ]
    },
    {
      "cell_type": "code",
      "source": [
        "# pandas, numpy import\n",
        "# tqdm, random, os 는 필요시 import"
      ],
      "metadata": {
        "id": "bKumM48XcMdr"
      },
      "execution_count": null,
      "outputs": []
    },
    {
      "cell_type": "code",
      "source": [
        "# 모델 관련 library import"
      ],
      "metadata": {
        "id": "ebmNgAnjcPMs"
      },
      "execution_count": null,
      "outputs": []
    },
    {
      "cell_type": "markdown",
      "source": [
        "# 데이터 불러오기"
      ],
      "metadata": {
        "id": "DXLLwpCLcQfl"
      }
    },
    {
      "cell_type": "code",
      "source": [
        "# train, test 불러오기"
      ],
      "metadata": {
        "id": "wrS2K6nNcRn5"
      },
      "execution_count": null,
      "outputs": []
    },
    {
      "cell_type": "code",
      "source": [
        "# building_info 불러오기"
      ],
      "metadata": {
        "id": "765kJcbYcS9d"
      },
      "execution_count": null,
      "outputs": []
    },
    {
      "cell_type": "markdown",
      "source": [
        "# Train, Test 일시 컬럼 전처리\n",
        "### 일시 컬럼을 확인해보면 20220601 00 으로 입력되어 있음\n",
        "### 월, 주, 요일, 시간으로 분리해보기\n",
        "#### datetime 혹은 isocalender 이용해보기"
      ],
      "metadata": {
        "id": "k05u14I8cXEl"
      }
    },
    {
      "cell_type": "code",
      "source": [
        "# train data 일시 컬럼 수정"
      ],
      "metadata": {
        "id": "9_LAvlMpcWgs"
      },
      "execution_count": null,
      "outputs": []
    },
    {
      "cell_type": "code",
      "source": [
        "# test data 일시 컬럼 수정"
      ],
      "metadata": {
        "id": "cH0-UAfCcbSA"
      },
      "execution_count": null,
      "outputs": []
    },
    {
      "cell_type": "markdown",
      "source": [
        "# building_info 전처리"
      ],
      "metadata": {
        "id": "N2p3HHdmccns"
      }
    },
    {
      "cell_type": "code",
      "source": [
        "# building_info 확인해보기"
      ],
      "metadata": {
        "id": "lYjsGn32cd71"
      },
      "execution_count": null,
      "outputs": []
    },
    {
      "cell_type": "markdown",
      "source": [
        "### 데이터 확인해보면 결측치가 NA도 0 도아닌 '-'로 되어있음을 확인할 수 있음\n",
        "### 0 혹은 NA로 변경해보기"
      ],
      "metadata": {
        "id": "OYjWbEkPcjb5"
      }
    },
    {
      "cell_type": "code",
      "source": [
        "# '태양광용량(kW)','ESS저장용량(kWh)','PCS용량(kW)' 컬럼 변경 필요"
      ],
      "metadata": {
        "id": "9nUz_dbhciE1"
      },
      "execution_count": null,
      "outputs": []
    },
    {
      "cell_type": "markdown",
      "source": [
        "# Train 데이터 결측치 처리"
      ],
      "metadata": {
        "id": "Pk32un9vctA8"
      }
    },
    {
      "cell_type": "code",
      "source": [
        "# train 데이터, test 데이터 확인 info()사용"
      ],
      "metadata": {
        "id": "-Z70ojdTcsP2"
      },
      "execution_count": null,
      "outputs": []
    },
    {
      "cell_type": "code",
      "source": [
        "# train 데이터와 test 데이터간 컬럼이 다름\n",
        "# 불필요한 컬럼 제거"
      ],
      "metadata": {
        "id": "V5UD_v-4c1E7"
      },
      "execution_count": null,
      "outputs": []
    },
    {
      "cell_type": "code",
      "source": [
        "# train 강수량 컬럼 채우기"
      ],
      "metadata": {
        "id": "tis1MqJ-c4kH"
      },
      "execution_count": null,
      "outputs": []
    },
    {
      "cell_type": "markdown",
      "source": [
        "# 풍속, 습도 결측치 확인"
      ],
      "metadata": {
        "id": "1Z3RN_34c9oT"
      }
    },
    {
      "cell_type": "code",
      "source": [],
      "metadata": {
        "id": "PJkNtSlOdEvb"
      },
      "execution_count": null,
      "outputs": []
    },
    {
      "cell_type": "code",
      "source": [
        "# 결측치 채우기 위해 특정 조건의 풍속 분포 확인\n",
        "train_ft[(train_ft['건물번호']==9)&(train_ft['month']==6) & (train_ft['hour'] ==11)]['풍속(m/s)'].describe()"
      ],
      "metadata": {
        "id": "YIsPpQEcc_Gu"
      },
      "execution_count": null,
      "outputs": []
    },
    {
      "cell_type": "code",
      "source": [
        "# 풍속 결측치 채우기\n",
        "# 같은 건물, 같은 월, 같은 시간 기준으로 평균내서 결측치 채우기"
      ],
      "metadata": {
        "id": "kCErUBgldBqM"
      },
      "execution_count": null,
      "outputs": []
    },
    {
      "cell_type": "code",
      "source": [
        "# 습도도 같은 방법으로 진행"
      ],
      "metadata": {
        "id": "JgIL_xMBdJf4"
      },
      "execution_count": null,
      "outputs": []
    },
    {
      "cell_type": "markdown",
      "source": [
        "# 빌딩 info 합해주기"
      ],
      "metadata": {
        "id": "Nr-2TPMedKiO"
      }
    },
    {
      "cell_type": "code",
      "source": [
        "# train 과 test에 건물번호로 테이블 합쳐주기"
      ],
      "metadata": {
        "id": "ei9gid2LdLn9"
      },
      "execution_count": null,
      "outputs": []
    },
    {
      "cell_type": "markdown",
      "source": [
        "# 범주형 인코딩\n",
        "### 확인해보면 건물유형이 한글로 되어 있어서 범주형으로 변경해주어야 함"
      ],
      "metadata": {
        "id": "EQb7zkR4dOhZ"
      }
    },
    {
      "cell_type": "code",
      "source": [
        "# mapping 할 dictionary 생성"
      ],
      "metadata": {
        "id": "ab5x3UUCdNJs"
      },
      "execution_count": null,
      "outputs": []
    },
    {
      "cell_type": "code",
      "source": [
        "# mapping"
      ],
      "metadata": {
        "id": "C3GW9HEndQAz"
      },
      "execution_count": null,
      "outputs": []
    },
    {
      "cell_type": "markdown",
      "source": [
        "# target 설정"
      ],
      "metadata": {
        "id": "SGJA9ytddTlF"
      }
    },
    {
      "cell_type": "code",
      "source": [
        "target = train_df['전력소비량(kWh)']\n",
        "target"
      ],
      "metadata": {
        "id": "n3hJIvyidT7T"
      },
      "execution_count": null,
      "outputs": []
    },
    {
      "cell_type": "markdown",
      "source": [
        "# Feature Engineering\n",
        "### 전력 사용량에 영향을 줄만한 변수를 기존 변수 활용해서 생성"
      ],
      "metadata": {
        "id": "FbeUEo1KdWRk"
      }
    },
    {
      "cell_type": "markdown",
      "source": [
        "# 공휴일 구분"
      ],
      "metadata": {
        "id": "-42V3AredX31"
      }
    },
    {
      "cell_type": "code",
      "source": [
        "# 월~금은 0\n",
        "# 토,일은 1"
      ],
      "metadata": {
        "id": "SC9A2u15fP9Y"
      },
      "execution_count": null,
      "outputs": []
    },
    {
      "cell_type": "markdown",
      "source": [
        "# 시간 관련 특성을 주기적인 특성으로 변경"
      ],
      "metadata": {
        "id": "RXimPKTcdZ4T"
      }
    },
    {
      "cell_type": "code",
      "source": [
        "# 삼각함수 활용"
      ],
      "metadata": {
        "id": "Uy7RswRYdf-E"
      },
      "execution_count": null,
      "outputs": []
    },
    {
      "cell_type": "markdown",
      "source": [
        "# 불쾌지수\n",
        "### 불쾌지수=1.8x기온–0.55x(1–습도)x(1.8x기온–26)+32"
      ],
      "metadata": {
        "id": "84mdAGicdcrk"
      }
    },
    {
      "cell_type": "code",
      "source": [
        "# 불쾌지수 구한 후 구간별 레이블 달아주기\n",
        "# 0, 68, 75, 80, 200 기준"
      ],
      "metadata": {
        "id": "qcs8uOFbdgXp"
      },
      "execution_count": null,
      "outputs": []
    },
    {
      "cell_type": "markdown",
      "source": [
        "# 누적냉방도수"
      ],
      "metadata": {
        "id": "Js8F0JBqde05"
      }
    },
    {
      "cell_type": "code",
      "source": [
        "# 함수활용\n",
        "def CDH(xs):\n",
        "    ys = []\n",
        "    for i in range(len(xs)):\n",
        "        if i < 11:\n",
        "            ys.append(np.sum(xs[:(i+1)]-26))\n",
        "        else:\n",
        "            ys.append(np.sum(xs[(i-11):(i+1)]-26))\n",
        "    return np.array(ys)"
      ],
      "metadata": {
        "id": "SOv15JIPdWnm"
      },
      "execution_count": null,
      "outputs": []
    },
    {
      "cell_type": "markdown",
      "source": [
        "# 요일 시간별 사용량"
      ],
      "metadata": {
        "id": "vf-XF69pdg8e"
      }
    },
    {
      "cell_type": "code",
      "source": [
        "# pivot table 활용"
      ],
      "metadata": {
        "id": "Ew2DwgM8dijc"
      },
      "execution_count": null,
      "outputs": []
    },
    {
      "cell_type": "markdown",
      "source": [
        "# 클러스터링\n",
        "### 평일, 공휴일 별 시간당 소비전력으로 table만들어서 클러스터링 후\n",
        "### 건물번호 기준으로 기존 테이블에 병합"
      ],
      "metadata": {
        "id": "C3Z76FNyd2vt"
      }
    },
    {
      "cell_type": "code",
      "source": [],
      "metadata": {
        "id": "lcqBaXMAd3IJ"
      },
      "execution_count": null,
      "outputs": []
    },
    {
      "cell_type": "markdown",
      "source": [
        "# 클러스터, 시간, 요일, 월 기준으로 평균전력소비량 컬럼 추가"
      ],
      "metadata": {
        "id": "FdSVqY7GeWBc"
      }
    },
    {
      "cell_type": "code",
      "source": [],
      "metadata": {
        "id": "pY7LVjU8eZZd"
      },
      "execution_count": null,
      "outputs": []
    },
    {
      "cell_type": "markdown",
      "source": [
        "# 시계열 데이터라 이동평균 고려\n",
        "### 습도, 기온에 대해 4일 이평, 7일 이평 고려"
      ],
      "metadata": {
        "id": "yRUus_6cecc_"
      }
    },
    {
      "cell_type": "code",
      "source": [
        "# 7일 x 24시간 = 168시간\n",
        "window_size = 96 # 4일 이평이용\n",
        "\n",
        "window_size = 168 # 7일 이평 이용\n"
      ],
      "metadata": {
        "id": "A-2FN4eMftW_"
      },
      "execution_count": null,
      "outputs": []
    },
    {
      "cell_type": "markdown",
      "source": [
        "# 모델학습"
      ],
      "metadata": {
        "id": "Y1zPU5H8ekGi"
      }
    },
    {
      "cell_type": "code",
      "source": [],
      "metadata": {
        "id": "nhmwRm6fecDF"
      },
      "execution_count": null,
      "outputs": []
    }
  ]
}